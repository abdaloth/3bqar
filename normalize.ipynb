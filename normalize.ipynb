{
 "cells": [
  {
   "cell_type": "code",
   "execution_count": 1,
   "metadata": {
    "collapsed": true
   },
   "outputs": [],
   "source": [
    "import numpy as np\n",
    "from csv import DictReader\n",
    "import re"
   ]
  },
  {
   "cell_type": "code",
   "execution_count": 2,
   "metadata": {
    "collapsed": true
   },
   "outputs": [],
   "source": [
    "filename = 'dataset/poems.csv'\n",
    "f = open(filename, 'r')\n",
    "reader = DictReader(f)\n"
   ]
  },
  {
   "cell_type": "code",
   "execution_count": 3,
   "metadata": {},
   "outputs": [
    {
     "data": {
      "text/plain": [
       "57845"
      ]
     },
     "execution_count": 3,
     "metadata": {},
     "output_type": "execute_result"
    }
   ],
   "source": [
    "latin_re = r'[a-zA-Z]' # remove bilingual poems\n",
    "raw_text = []\n",
    "for row in reader:\n",
    "    if(re.search(latin_re, row['poem_text'])):\n",
    "        continue\n",
    "    raw_text.append(row['poem_text'])\n",
    "f.close()\n",
    "len(raw_text)\n"
   ]
  },
  {
   "cell_type": "code",
   "execution_count": 4,
   "metadata": {},
   "outputs": [
    {
     "data": {
      "text/plain": [
       "'\\nالـمــآب (رفيق من رفاق الصِّبا، رآه الناظم  عليلا محمولاً بعد غربة طويلة)\\n خاطبتُ عنك فما تركتُ مخاطباً  وسألتُ حتى لم أدْع مسؤولا\\n صدأُ الحوادثِ بدّل الاشراقَ في  فكري وكدّر خاطري المصقولا\\n يا مَن نزلتُ بنبعهِ أردِ الهوى  فأذاقنيه محطماً ووبيلا\\n وتتابعُ الأنواءِ في أفَق الصّبا  لم يُبقِ لي صحواً أراه جميلا\\n ذهب الصبا الغالي وزالت دوحةٌ  مدت لنا ظلَ الوفاء ظليلا\\n أيام يخذلني أمامك منطقي  فإذا سكتُّ فكل شيءٍ قيلا!\\n ويثور بي حُبي فإنْ لفظٌ جرى  بفمي تعثر بالشفاه خجولا\\n يا مَن نزلتُ بنبعهِ أردِ الهوى  فأذاقنيه محطماً ووبيلا\\n وتتابعُ الأنواءِ في أفَق الصّبا  لم يُبقِ لي صحواً أراه جميلا\\n ذهب الصبا الغالي وزالت دوحةٌ  مدت لنا ظلَ الوفاء ظليلا\\n أيام يخذلني أمامك منطقي  فإذا سكتُّ فكل شيءٍ قيلا!'"
      ]
     },
     "execution_count": 4,
     "metadata": {},
     "output_type": "execute_result"
    }
   ],
   "source": [
    "raw_text[1337]"
   ]
  },
  {
   "cell_type": "code",
   "execution_count": 5,
   "metadata": {},
   "outputs": [
    {
     "data": {
      "text/plain": [
       "'\\nالمآب رفيق من رفاق الصبا، رآه الناظم عليلا محمولا بعد غربة طويلة \\n خاطبت عنك فما تركت مخاطبا وسألت حتى لم أدع مسؤولا\\n صدأ الحوادث بدل الاشراق في فكري وكدر خاطري المصقولا\\n يا من نزلت بنبعه أرد الهوى فأذاقنيه محطما وبيلا\\n وتابع الأنواء في أفق الصبا لم يبق لي صحوا أراه جميلا\\n ذهب الصبا الغالي وزالت دوحة مدت لنا ظل الوفاء ظليلا\\n أيام يخذلني أمامك منطقي فإذا سكت فكل شيء قيلا \\n ويثور بي حبي فإن لفظ جرى بفمي تعثر بالشفاه خجولا\\n يا من نزلت بنبعه أرد الهوى فأذاقنيه محطما وبيلا\\n وتابع الأنواء في أفق الصبا لم يبق لي صحوا أراه جميلا\\n ذهب الصبا الغالي وزالت دوحة مدت لنا ظل الوفاء ظليلا\\n أيام يخذلني أمامك منطقي فإذا سكت فكل شيء قيلا '"
      ]
     },
     "execution_count": 5,
     "metadata": {},
     "output_type": "execute_result"
    }
   ],
   "source": [
    "# remove harakat\n",
    "harakat_re = r'(ٍ|َ|ُ|ِ|ّ|ْ|ً)'\n",
    "# remove every non arabic charachter that isnt a space, comma, dot or new line\n",
    "nonarabic_nonspace_re = r'[^\\u0621-\\u064A .،\\n]'\n",
    "extension_re = r'ـ' # remove word extensions e.g. أهـــــــــلا\n",
    "\n",
    "def normalize_poem(poem):\n",
    "    poem_normalized = re.sub(extension_re, '', poem, flags=re.UNICODE)\n",
    "    poem_normalized = re.sub(harakat_re, '', poem_normalized, flags=re.UNICODE)\n",
    "    poem_normalized = re.sub(nonarabic_nonspace_re, ' ', poem_normalized, flags=re.UNICODE)\n",
    "    poem_normalized = re.sub(r'(.)\\1{1,}', r'\\1', poem_normalized, flags=re.UNICODE) # remove repititions\n",
    "    \n",
    "    return poem_normalized\n",
    "\n",
    "normalize_poem(raw_text[1337])"
   ]
  },
  {
   "cell_type": "code",
   "execution_count": 6,
   "metadata": {
    "collapsed": true
   },
   "outputs": [],
   "source": [
    "poems_normalized = np.empty(len(raw_text), dtype=object)\n",
    "\n",
    "for i,poem in enumerate(raw_text):\n",
    "    poems_normalized[i] = normalize_poem(poem)"
   ]
  },
  {
   "cell_type": "code",
   "execution_count": 7,
   "metadata": {
    "collapsed": true
   },
   "outputs": [],
   "source": [
    "np.save('normalized_poem_text', poems_normalized)"
   ]
  },
  {
   "cell_type": "code",
   "execution_count": null,
   "metadata": {
    "collapsed": true
   },
   "outputs": [],
   "source": []
  }
 ],
 "metadata": {
  "kernelspec": {
   "display_name": "Python 3",
   "language": "python",
   "name": "python3"
  },
  "language_info": {
   "codemirror_mode": {
    "name": "ipython",
    "version": 3
   },
   "file_extension": ".py",
   "mimetype": "text/x-python",
   "name": "python",
   "nbconvert_exporter": "python",
   "pygments_lexer": "ipython3",
   "version": "3.6.1"
  }
 },
 "nbformat": 4,
 "nbformat_minor": 2
}
